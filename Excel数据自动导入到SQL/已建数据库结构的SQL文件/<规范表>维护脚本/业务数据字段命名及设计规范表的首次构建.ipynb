{
 "cells": [
  {
   "cell_type": "markdown",
   "metadata": {},
   "source": [
    "## 首次创建<规范表>的范式"
   ]
  },
  {
   "cell_type": "code",
   "execution_count": 1,
   "metadata": {},
   "outputs": [],
   "source": [
    "import os, re, calendar\n",
    "import numpy as np\n",
    "import pandas as pd \n",
    "from pypinyin import Style, pinyin"
   ]
  },
  {
   "cell_type": "code",
   "execution_count": 2,
   "metadata": {},
   "outputs": [],
   "source": [
    "# 工具函数\n",
    "def re_subFN_sql(file_list):\n",
    "    '''\n",
    "    筛选子目录下的所有\".sql\"的文件名\n",
    "    file_list: 路径下包含的各文件名\n",
    "    '''\n",
    "    target_files = []\n",
    "    for i, name in enumerate(file_list):\n",
    "        if name.find('.sql')>=0:\n",
    "            target_files.append(name)\n",
    "    \n",
    "    return target_files\n",
    "\n",
    "def eng_name(s):\n",
    "    '''\n",
    "    取出SQL语句中字段英文名\n",
    "    '''\n",
    "    slist = s.split(\" \")\n",
    "    for i in slist:\n",
    "        if i != \"\":\n",
    "            return i\n",
    "    return \"字符串为空\"\n",
    "\n",
    "def trim(lis):\n",
    "    '''\n",
    "    截取SQL文件中定义字段语句\n",
    "    '''\n",
    "    i=0\n",
    "    for j in lis:\n",
    "        if j.split(' ')[0] == 'CREATE':\n",
    "            return lis[i+2:]\n",
    "        i += 1"
   ]
  },
  {
   "cell_type": "code",
   "execution_count": 3,
   "metadata": {},
   "outputs": [],
   "source": [
    "file_names = re_subFN_sql(os.listdir(os.path.abspath(os.path.dirname(os.getcwd()))))\n",
    "os.chdir(os.path.abspath(os.path.dirname(os.getcwd())))\n",
    "\n",
    "df = pd.DataFrame(columns=['英文名','SQL语句'])\n",
    "for name in file_names:\n",
    "\n",
    "    sql = open(name, \"r\", encoding = \"utf8\")\n",
    "    sqltxt = sql.readlines()# 此时 sqltxt 为 list 类型\n",
    "\n",
    "    # 读取之后关闭文件\n",
    "    sql.close()\n",
    "    \n",
    "    sqltxt = trim(sqltxt[:-2])\n",
    "    for i in sqltxt:\n",
    "        try:\n",
    "            key =  re.findall(\"COMMENT '(.*?)'\",i)[0]\n",
    "            #df.loc[key] = [eng_name(i),i]  // for windows\n",
    "            df.loc[key] = [eng_name(i).replace('`',''),i]\n",
    "        except:\n",
    "            #print(name,i)  // 输出异常信息\n",
    "            pass    \n",
    "        \n",
    "# 存储<规范表>文件\n",
    "df.to_excel('业务数据字段命名及设计规范.xlsx')"
   ]
  },
  {
   "cell_type": "markdown",
   "metadata": {},
   "source": [
    "The kener below may not be execute"
   ]
  },
  {
   "cell_type": "code",
   "execution_count": 4,
   "metadata": {},
   "outputs": [
    {
     "data": {
      "text/html": [
       "<div>\n",
       "<style scoped>\n",
       "    .dataframe tbody tr th:only-of-type {\n",
       "        vertical-align: middle;\n",
       "    }\n",
       "\n",
       "    .dataframe tbody tr th {\n",
       "        vertical-align: top;\n",
       "    }\n",
       "\n",
       "    .dataframe thead th {\n",
       "        text-align: right;\n",
       "    }\n",
       "</style>\n",
       "<table border=\"1\" class=\"dataframe\">\n",
       "  <thead>\n",
       "    <tr style=\"text-align: right;\">\n",
       "      <th></th>\n",
       "      <th>英文名</th>\n",
       "      <th>SQL语句</th>\n",
       "    </tr>\n",
       "  </thead>\n",
       "  <tbody>\n",
       "    <tr>\n",
       "      <th>乐观锁</th>\n",
       "      <td>REVISION</td>\n",
       "      <td>`REVISION` int(11) NULL DEFAULT NULL COMMENT...</td>\n",
       "    </tr>\n",
       "    <tr>\n",
       "      <th>统计时间</th>\n",
       "      <td>DATA_DATE</td>\n",
       "      <td>`DATA_DATE` date NULL DEFAULT NULL COMMENT '...</td>\n",
       "    </tr>\n",
       "    <tr>\n",
       "      <th>分公司代码</th>\n",
       "      <td>COMPANY_CODE</td>\n",
       "      <td>`COMPANY_CODE` varchar(32) CHARACTER SET utf...</td>\n",
       "    </tr>\n",
       "    <tr>\n",
       "      <th>分公司名称</th>\n",
       "      <td>COMPANY_NAME</td>\n",
       "      <td>`COMPANY_NAME` varchar(128) CHARACTER SET ut...</td>\n",
       "    </tr>\n",
       "    <tr>\n",
       "      <th>部门组代码</th>\n",
       "      <td>DEPARTMENT_GROUP</td>\n",
       "      <td>`DEPARTMENT_GROUP` varchar(128) CHARACTER SE...</td>\n",
       "    </tr>\n",
       "  </tbody>\n",
       "</table>\n",
       "</div>"
      ],
      "text/plain": [
       "                    英文名                                              SQL语句\n",
       "乐观锁            REVISION    `REVISION` int(11) NULL DEFAULT NULL COMMENT...\n",
       "统计时间          DATA_DATE    `DATA_DATE` date NULL DEFAULT NULL COMMENT '...\n",
       "分公司代码      COMPANY_CODE    `COMPANY_CODE` varchar(32) CHARACTER SET utf...\n",
       "分公司名称      COMPANY_NAME    `COMPANY_NAME` varchar(128) CHARACTER SET ut...\n",
       "部门组代码  DEPARTMENT_GROUP    `DEPARTMENT_GROUP` varchar(128) CHARACTER SE..."
      ]
     },
     "execution_count": 4,
     "metadata": {},
     "output_type": "execute_result"
    }
   ],
   "source": [
    "# 调用<规范表>的演示\n",
    "df = pd.read_excel('业务数据字段命名及设计规范.xlsx',index_col=0)\n",
    "df.head()"
   ]
  },
  {
   "cell_type": "markdown",
   "metadata": {},
   "source": [
    "### 我们之后仅需对<规范表>进行维护即可创建自动数据表"
   ]
  },
  {
   "cell_type": "code",
   "execution_count": null,
   "metadata": {},
   "outputs": [],
   "source": []
  }
 ],
 "metadata": {
  "kernelspec": {
   "display_name": "Python 3",
   "language": "python",
   "name": "python3"
  },
  "language_info": {
   "codemirror_mode": {
    "name": "ipython",
    "version": 3
   },
   "file_extension": ".py",
   "mimetype": "text/x-python",
   "name": "python",
   "nbconvert_exporter": "python",
   "pygments_lexer": "ipython3",
   "version": "3.8.5"
  }
 },
 "nbformat": 4,
 "nbformat_minor": 4
}
