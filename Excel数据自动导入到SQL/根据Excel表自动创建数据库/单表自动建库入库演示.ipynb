{
 "cells": [
  {
   "cell_type": "code",
   "execution_count": 1,
   "metadata": {},
   "outputs": [],
   "source": [
    "import os\n",
    "import re\n",
    "import pymysql\n",
    "import calendar\n",
    "import numpy as np\n",
    "import pandas as pd\n",
    "from pypinyin import Style, pinyin\n",
    "\n",
    "# 连接<理赔打假>数据库\n",
    "conn = pymysql.connect(host='localhost',user = \"root\",passwd = \"gu711205\",db='lp_dj',charset = 'gbk')\n",
    "cursor = conn.cursor()"
   ]
  },
  {
   "cell_type": "code",
   "execution_count": 2,
   "metadata": {},
   "outputs": [],
   "source": [
    "# 工具函数\n",
    "def bopomofo_joint(a):\n",
    "    '''\n",
    "    连接中文拼音\n",
    "    '''\n",
    "    x = ''\n",
    "    for i in a:\n",
    "        x += i[0]\n",
    "    return x.upper()\n",
    "\n",
    "def save(filename, docs):\n",
    "    '''\n",
    "    存储填数SQL语句\n",
    "    '''\n",
    "    fh = open(filename, 'w', encoding='utf-8')\n",
    "    for doc in docs:\n",
    "        fh.write(doc)\n",
    "        fh.write('\\n')\n",
    "    fh.close()\n",
    "    \n",
    "def isNull(values):\n",
    "    '''\n",
    "    填数SQL语句空值处理方法\n",
    "    '''\n",
    "    error_type = ['nan', 'NaN', 'NaT']\n",
    "    if str(values) in error_type:\n",
    "        output = 'NULL,'\n",
    "    else:\n",
    "        output = '\\'' + str(values) + '\\','\n",
    "    return output"
   ]
  },
  {
   "cell_type": "code",
   "execution_count": 3,
   "metadata": {},
   "outputs": [],
   "source": [
    "# 数据库中的表名\n",
    "table_name = 'lp_ml_saccvt_deduction_cla_tp_fgs'\n",
    "# 读取业务数据\n",
    "file_name = '车理赔老旧车型赔案_安徽分公司_201901-202012.xlsx'\n",
    "df = pd.read_excel(file_name, skiprows=3)\n",
    "\n",
    "# 更改默认路径\n",
    "os.chdir(os.path.abspath(os.path.dirname(os.getcwd())) + '/已建数据库结构的SQL文件')\n",
    "# 读取<规范表>\n",
    "df_address = pd.read_excel('业务数据字段命名及设计规范.xlsx')\n",
    "df_address.columns = ['中文名', '英文名', 'SQL语句']\n",
    "dict_address = dict(zip(df_address['中文名'],df_address['SQL语句']))"
   ]
  },
  {
   "cell_type": "markdown",
   "metadata": {},
   "source": [
    "#### 对于新增字段，我们默认设置为VARCHAR(255)格式：理应在事后查明这些新增字段的建表格式，填入<业务数据字段命名及设计规范.xlsx>  也即(<维护表>)中。"
   ]
  },
  {
   "cell_type": "code",
   "execution_count": 4,
   "metadata": {},
   "outputs": [
    {
     "name": "stdout",
     "output_type": "stream",
     "text": [
      "新增字段名:  子险代码\n",
      "新增字段名:  子险名称\n",
      "新增字段名:  支付对象代码\n",
      "新增字段名:  车损险赔款\n",
      "新增字段名:  车损险保额\n"
     ]
    }
   ],
   "source": [
    "# 根据表头建库\n",
    "sqltxt = [ 'CREATE TABLE ' + table_name + '(\\n', \"    ID INT NOT NULL AUTO_INCREMENT  COMMENT 'ID' ,\\n\", \"    DATA_DATE DATE    COMMENT '数据时间' ,\\n\", \"    REVISION INT    COMMENT '乐观锁' ,\\n\", \"    CREATED_BY VARCHAR(32)    COMMENT '创建人' ,\\n\", \"    CREATED_TIME DATETIME    COMMENT '创建时间' ,\\n\", \"    UPDATED_BY VARCHAR(32)    COMMENT '更新人' ,\\n\", \"    UPDATED_TIME DATETIME    COMMENT '更新时间' ,\\n\"]\n",
    "for col_name in df.columns:\n",
    "    \n",
    "    if col_name in dict_address.keys():\n",
    "        sqltxt.append(dict_address[col_name])\n",
    "    else:\n",
    "        print(\"新增字段名: \", col_name)\n",
    "        type_name = 'VARCHAR(255)'\n",
    "        sentence = '    ' + bopomofo_joint(pinyin(col_name, style=Style.NORMAL)) + \"   \" + type_name + \"     COMMENT '\" + col_name + \"' ,\\n\"\n",
    "        sqltxt.append(sentence)\n",
    "        dict_address[col_name] = sentence\n",
    "        \n",
    "sqltxt.append(\"    PRIMARY KEY (ID)\\n) COMMENT = '\" + file_name.split('.')[0] + \" ';;\")"
   ]
  },
  {
   "cell_type": "code",
   "execution_count": 5,
   "metadata": {},
   "outputs": [],
   "source": [
    "# 更改存储路径\n",
    "os.chdir(os.path.abspath(os.path.dirname(os.getcwd())) + '/根据Excel表自动创建数据库/已创建数据表备份存储')\n",
    "# 存储创建表的SQL语句\n",
    "with open(file_name.split('.')[0]+\".sql\",\"w\") as f:\n",
    "    for s in sqltxt:\n",
    "        f.write(s)"
   ]
  },
  {
   "cell_type": "code",
   "execution_count": 6,
   "metadata": {},
   "outputs": [
    {
     "name": "stdout",
     "output_type": "stream",
     "text": [
      "创建数据库成功!\n"
     ]
    }
   ],
   "source": [
    "#创建表\n",
    "creatTable_sql = \"drop table if exists \" + table_name\n",
    "cursor.execute(creatTable_sql)\n",
    "sql_path = file_name.split('.')[0] + \".sql\"\n",
    "\n",
    "# 读取 sql 文件文本内容\n",
    "sql = open(sql_path, \"r\", encoding = \"utf8\")\n",
    "sqltxt = sql.readlines()# 此时 sqltxt 为 list 类型\n",
    "\n",
    "# 读取之后关闭文件\n",
    "sql.close()\n",
    "\n",
    "# list 转 str\n",
    "sql = \"\".join(sqltxt)\n",
    "\n",
    "# 执行sql\n",
    "cursor.execute(sql)\n",
    "print('创建数据库成功!')"
   ]
  },
  {
   "cell_type": "markdown",
   "metadata": {},
   "source": [
    "#### 测试插入<车理赔老旧车型赔案_安徽分公司_201901-202012>的数据于自动生成的Table中:"
   ]
  },
  {
   "cell_type": "code",
   "execution_count": 7,
   "metadata": {},
   "outputs": [],
   "source": [
    "Table_Header = pd.DataFrame({'ID':np.arange(len(df)) + 1, 'Data_Date':['2020-01-01'] * len(df)})\n",
    "df = pd.concat([Table_Header,df], axis=1)"
   ]
  },
  {
   "cell_type": "code",
   "execution_count": 8,
   "metadata": {},
   "outputs": [],
   "source": [
    "exec_code_ls = []\n",
    "cols_len = len(df.iloc[0])\n",
    "\n",
    "for j in range(len(df)):\n",
    "    col_values = 'INSERT INTO ' + table_name + ' values('\n",
    "    # 将\"乐观锁\",“创建人”,“创建时间”,“更新人”,“更新时间列”设置为空值\n",
    "    for i in range(cols_len):\n",
    "        if i == 2:\n",
    "            col_values += 'NULL,'*5\n",
    "        \n",
    "        col_values += isNull(df.iloc[j][i])\n",
    "          \n",
    "    # 去除最后一个逗号\n",
    "    col_values = col_values[:-1]\n",
    "    # 加上后缀\n",
    "    col_values += ');'\n",
    "    exec_code_ls.append(col_values)\n",
    "    #del col_values"
   ]
  },
  {
   "cell_type": "code",
   "execution_count": 9,
   "metadata": {},
   "outputs": [],
   "source": [
    "for i in range(len(exec_code_ls)):\n",
    "    sql = exec_code_ls[i]\n",
    "    try:\n",
    "       # 执行sql语句\n",
    "       cursor.execute(sql)\n",
    "       # 提交到数据库执行\n",
    "       conn.commit()\n",
    "    \n",
    "    except:\n",
    "       # 如果发生错误则回滚\n",
    "       conn.rollback()\n",
    "        \n",
    "#conn.close()  "
   ]
  },
  {
   "cell_type": "markdown",
   "metadata": {},
   "source": [
    "#### 测试代码，显示入库提数成功。要执行需注释上\"conn.close()\"语句"
   ]
  },
  {
   "cell_type": "code",
   "execution_count": 10,
   "metadata": {},
   "outputs": [
    {
     "name": "stdout",
     "output_type": "stream",
     "text": [
      "((1, datetime.date(2020, 1, 1), None, None, None, None, None, '201901', '安徽分公司', '合肥中心支公司', '综合业务部', '11024400', '机动车商业行业示范汽车保险', 'AHEFHF1Y1418B017886E', None, None, datetime.date(2018, 4, 2), datetime.datetime(2019, 4, 1, 0, 0), Decimal('1076768.00000000'), Decimal('4011.75000000'), '皖A87V50', 'LVSHBFMC4BF188531', '蒙迪欧CAF7203M轿车', datetime.date(2011, 9, 21), 7, '340123199112252077', '吴海洲', '340123199112252077', '吴海洲', None, None, 'C340100VEH18038623', '皖A87V50 标的车：皖A87V50右侧受损，撞非机动车/固定物/动物，碰三者物损：护栏有损，已报警或提示报警；现', None, None, None, '否', '否', None, None, None, '安徽省滁州市定远县合徐高速', None, '吴海洲', 'F340100A1418036692', 'F340100A1418036692_4', Decimal('64435.00000000'), Decimal('0E-8'), datetime.datetime(2019, 1, 9, 0, 0), '0', '吴海洲', Decimal('64435.00000000'), '徽商银行股份有限公司阜阳颍东支行', '6217751020000257413', datetime.date(2019, 1, 10), '54560', '76768', 'AH3401000191', '合肥恒信德龙美华汽车销售服务有限公司', 'AH3401000191', '合肥恒信德龙美华汽车销售服务有限公司', None, None, None, None, 'HF796', '管如晟', None, None, 'BB224', '陈子明', 'HF1969', None, 'HF902', '吴凡', '自理自核', None, None, None, None, None, None, None, None, None, None, None, None, None, None),)\n"
     ]
    }
   ],
   "source": [
    "test_sql = 'select * from lp_ml_saccvt_deduction_cla_tp_fgs'\n",
    "cursor.execute(test_sql)\n",
    "data = cursor.fetchall()\n",
    "print(data)"
   ]
  },
  {
   "cell_type": "code",
   "execution_count": null,
   "metadata": {},
   "outputs": [],
   "source": []
  }
 ],
 "metadata": {
  "kernelspec": {
   "display_name": "Python 3",
   "language": "python",
   "name": "python3"
  },
  "language_info": {
   "codemirror_mode": {
    "name": "ipython",
    "version": 3
   },
   "file_extension": ".py",
   "mimetype": "text/x-python",
   "name": "python",
   "nbconvert_exporter": "python",
   "pygments_lexer": "ipython3",
   "version": "3.8.5"
  }
 },
 "nbformat": 4,
 "nbformat_minor": 4
}
