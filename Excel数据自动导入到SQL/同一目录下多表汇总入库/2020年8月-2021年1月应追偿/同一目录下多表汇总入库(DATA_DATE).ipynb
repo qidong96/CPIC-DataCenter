{
 "cells": [
  {
   "cell_type": "code",
   "execution_count": 1,
   "metadata": {},
   "outputs": [],
   "source": [
    "import os, re\n",
    "import codecs\n",
    "import pymysql\n",
    "import numpy as np\n",
    "import pandas as pd\n",
    "\n",
    "# 连接理赔数据库\n",
    "conn = pymysql.connect(host='localhost',user = \"root\",passwd = \"gu711205\",db='lp_ml_saccvt_not_deduct_cl_tp_fgs',charset = 'gbk')\n",
    "cursor = conn.cursor()"
   ]
  },
  {
   "cell_type": "code",
   "execution_count": 2,
   "metadata": {},
   "outputs": [],
   "source": [
    "# 工具函数\n",
    "def re_FN_month(file_list):\n",
    "    '''\n",
    "    筛选包含\"月\"的文件名\n",
    "    file_list: 路径下包含的各文件名\n",
    "    '''\n",
    "    target_files = []\n",
    "    for i, name in enumerate(file_list):\n",
    "        if name.find('月')>=0:\n",
    "            target_files.append(name)\n",
    "            \n",
    "    return target_files\n",
    "\n",
    "def re_subFN_csv(file_list):\n",
    "    '''\n",
    "    筛选包含\"月\"的子目录下的所有\".csv\"的文件名\n",
    "    file_list: 路径下包含的各文件名\n",
    "    '''\n",
    "    target_files = []\n",
    "    for i, name in enumerate(file_list):\n",
    "        if name.find('.csv')>=0:\n",
    "            target_files.append(name)\n",
    "            \n",
    "    return target_files\n",
    "\n",
    "def re_subFN_copy_csv(file_list):\n",
    "    '''\n",
    "    筛选包含\"月\"的子目录下的所有\"_copy.csv\"的文件名\n",
    "    file_list: 路径下包含的各文件名\n",
    "    '''\n",
    "    target_files = []\n",
    "    for i, name in enumerate(file_list):\n",
    "        if name.find('_copy.csv')>=0:\n",
    "            target_files.append(name)\n",
    "            \n",
    "    return target_files\n",
    "\n",
    "def handleEncoding(original_file, newfile):\n",
    "    f=open(original_file,'rb+')\n",
    "    content=f.read()#读取文件内容，content为bytes类型，而非string类型\n",
    "    source_encoding='utf-8'\n",
    "    #####确定encoding类型\n",
    "    try:\n",
    "        content.decode('utf-8').encode('utf-8')\n",
    "        source_encoding='utf-8'\n",
    "    except:\n",
    "        try:\n",
    "            content.decode('gbk').encode('utf-8')\n",
    "            source_encoding='gbk'\n",
    "        except:\n",
    "            try:\n",
    "                content.decode('gb2312').encode('utf-8')\n",
    "                source_encoding='gb2312'\n",
    "            except:\n",
    "                try:\n",
    "                    content.decode('gb18030').encode('utf-8')\n",
    "                    source_encoding='gb18030'\n",
    "                except:\n",
    "                    try:\n",
    "                        content.decode('big5').encode('utf-8')\n",
    "                        source_encoding='gb18030'\n",
    "                    except:\n",
    "                        content.decode('cp936').encode('utf-8')\n",
    "                        source_encoding='cp936'\n",
    "    f.close()\n",
    "    \n",
    "    #####按照确定的encoding读取文件内容，并另存为utf-8编码：\n",
    "    block_size=4096\n",
    "    \n",
    "    with codecs.open(original_file,'r',source_encoding) as f:\n",
    "        with codecs.open(newfile,'w','utf-8') as f2:\n",
    "            while True:\n",
    "                content=f.read(block_size)\n",
    "                if not content:\n",
    "                    break\n",
    "                f2.write(content)\n",
    "\n",
    "def retriveCopyNames(file_names):\n",
    "    '''\n",
    "    file_names: list格式，存储同一目录下所有目标文件名称。\n",
    "    '''\n",
    "    CopyFile_names = []\n",
    "    for i in range(len(file_names)):\n",
    "        tmp = file_names[i][0:file_names[i].rfind('.csv',1)] + '_copy.csv'\n",
    "        CopyFile_names.append(tmp)\n",
    "    return CopyFile_names\n",
    "\n",
    "def save(filename, docs):\n",
    "    fh = open(filename, 'w', encoding='utf-8')\n",
    "    for doc in docs:\n",
    "        fh.write(doc)\n",
    "        fh.write('\\n')\n",
    "    fh.close()\n",
    "    \n",
    "def isNull(values):\n",
    "    error_type = ['nan', 'NaN', 'NaT']\n",
    "    if str(values) in error_type:\n",
    "        output = 'NULL,'\n",
    "    else:\n",
    "        output = '\\'' + str(values) + '\\','\n",
    "    return output"
   ]
  },
  {
   "cell_type": "markdown",
   "metadata": {},
   "source": [
    "### 将csv文件重编码为utf-8格式，并将修改后的文件加入_copy.csv后缀："
   ]
  },
  {
   "cell_type": "code",
   "execution_count": 3,
   "metadata": {},
   "outputs": [],
   "source": [
    "file_names = os.listdir()\n",
    "file_names = re_FN_month(file_names)\n",
    "\n",
    "for i in range(len(file_names)):\n",
    "    file_path = './' + file_names[i]\n",
    "    os.chdir(file_path)\n",
    "    \n",
    "    file_subnames = os.listdir()\n",
    "    file_subnames = re_subFN_csv(file_subnames)\n",
    "    CopyFile_names = retriveCopyNames(file_subnames)\n",
    "    for i in range(len(file_subnames)):\n",
    "        handleEncoding(file_subnames[i], CopyFile_names[i])\n",
    "        \n",
    "    # 操作完毕后回退上一级路径\n",
    "    path = os.path.abspath(os.path.dirname(os.getcwd()))\n",
    "    os.chdir(path) "
   ]
  },
  {
   "cell_type": "markdown",
   "metadata": {},
   "source": [
    "### 汇总同一目录下不同月份的数据文件于一张表，并加入ID与DATA_DATE的列表头："
   ]
  },
  {
   "cell_type": "code",
   "execution_count": 4,
   "metadata": {},
   "outputs": [],
   "source": [
    "file_names = os.listdir()\n",
    "file_names = re_FN_month(file_names)\n",
    "file_merge = pd.DataFrame()\n",
    "Data_Date = []\n",
    "\n",
    "for month in file_names:\n",
    "    file_path = './' + month\n",
    "    file_subnames = os.listdir(file_path)\n",
    "    file_subnames = re_subFN_copy_csv(file_subnames)\n",
    "    \n",
    "    for k,name in enumerate(file_subnames):\n",
    "        df = pd.read_csv(file_path + '/'+ name)\n",
    "        \n",
    "        Date = re.findall(\".*_(.*)_copy.csv.*\",file_subnames[k])[0]\n",
    "        datetime = Date[0:4] + '-' + Date[4:6] + '-' + Date[6:8]\n",
    "        \n",
    "        tmp = [datetime] * len(df)\n",
    "        Data_Date.extend(tmp)\n",
    "        \n",
    "        file_merge = file_merge.append(df)\n",
    "    \n",
    "    del tmp\n",
    "\n",
    "file_merge.index = list(range(0, len(file_merge)))\n",
    "Table_Header = pd.DataFrame({'ID':np.nan * len(df), 'DATA_DATE':Data_Date})\n",
    "file_merge = pd.concat([Table_Header, file_merge], axis=1)"
   ]
  },
  {
   "cell_type": "markdown",
   "metadata": {},
   "source": [
    "### 批量生成SQL语句："
   ]
  },
  {
   "cell_type": "code",
   "execution_count": 5,
   "metadata": {},
   "outputs": [],
   "source": [
    "# 对于同一目录下不同表，仅需调整table_name唯一的超参数即可\n",
    "exec_code_ls = []\n",
    "\n",
    "table_name = 'lp_ml_sasssb_needrecovery_clalist'\n",
    "cols_len = len(file_merge.iloc[0])\n",
    "\n",
    "for j in range(len(file_merge)):\n",
    "    col_values = 'INSERT INTO ' + table_name + ' values('\n",
    "    # 将\"乐观锁\",“创建人”,“创建时间”,“更新人”,“更新时间列”设置为空值\n",
    "    for i in range(cols_len):\n",
    "        if i == 2:\n",
    "            col_values += 'NULL,' * 5\n",
    "        \n",
    "        col_values += isNull(file_merge.iloc[j][i])\n",
    "        \n",
    "    # 去除最后一个逗号\n",
    "    col_values = col_values[:-1]\n",
    "    # 加上后缀\n",
    "    col_values += ');'\n",
    "    exec_code_ls.append(col_values)\n",
    "    \n",
    "# 存储取数入库SQL文件\n",
    "#save_dir = your_save_file_path\n",
    "#save(save_dir, exec_code_ls)"
   ]
  },
  {
   "cell_type": "markdown",
   "metadata": {},
   "source": [
    "### 逐条向数据库中插入SQL语句 (此时库结构已完成设计)："
   ]
  },
  {
   "cell_type": "code",
   "execution_count": null,
   "metadata": {},
   "outputs": [],
   "source": [
    "for i in range(len(exec_code_ls)):\n",
    "    sql = exec_code_ls[i]\n",
    "    try:\n",
    "       # 执行sql语句\n",
    "       cursor.execute(sql)\n",
    "       # 提交到数据库执行\n",
    "       conn.commit()\n",
    "    except:\n",
    "       # 如果发生错误则回滚\n",
    "       conn.rollback()\n",
    "        \n",
    "conn.close()"
   ]
  },
  {
   "cell_type": "markdown",
   "metadata": {},
   "source": [
    "#### 结果演示:\n",
    "\n",
    "The kernel below may not be executed"
   ]
  },
  {
   "cell_type": "code",
   "execution_count": 6,
   "metadata": {},
   "outputs": [
    {
     "name": "stdout",
     "output_type": "stream",
     "text": [
      "INSERT INTO lp_ml_sasssb_needrecovery_clalist values(NULL,'2021-02-03',NULL,NULL,NULL,NULL,NULL,'3030100','浙江分公司','杭州中心支公司','电销中心','C330100VEH20040248','F330100A1420038803','王轩','2020-07-13 13:30:05','2020-07-21 11:43:43','无责','3800.0','2021-01-08 10:52:24',NULL,NULL,NULL,NULL,NULL,NULL,'EA1129','王莹','3800.0','追偿申请未发起','否',NULL,NULL,NULL,NULL,'23.54694444444445','否','3800.0','w','20210131','2021-02-01 02:46:58',NULL,'毛灵刚','台州中通星沃汽车销售服务有限公司');\n",
      "INSERT INTO lp_ml_sasssb_needrecovery_clalist values(NULL,'2021-02-03',NULL,NULL,NULL,NULL,NULL,'3030100','浙江分公司','杭州中心支公司','滨江支公司','C330100VEH20056282','F330100A1420054162','张利斌','2020-09-23 14:30:43','2020-09-23 14:38:28','无责','176000.0','2021-01-11 16:52:20',NULL,NULL,NULL,NULL,NULL,NULL,'EA1129','王莹','176000.0','追偿申请未发起','否',NULL,NULL,NULL,NULL,'20.296990740740743','否','176000.0','w','20210131','2021-02-01 02:46:58',NULL,'姜开楠','浙江捷骏汽车销售服务有限公司9');\n"
     ]
    }
   ],
   "source": [
    "for i in range(2):\n",
    "    print(exec_code_ls[i])"
   ]
  },
  {
   "cell_type": "code",
   "execution_count": null,
   "metadata": {},
   "outputs": [],
   "source": []
  }
 ],
 "metadata": {
  "kernelspec": {
   "display_name": "Python 3",
   "language": "python",
   "name": "python3"
  },
  "language_info": {
   "codemirror_mode": {
    "name": "ipython",
    "version": 3
   },
   "file_extension": ".py",
   "mimetype": "text/x-python",
   "name": "python",
   "nbconvert_exporter": "python",
   "pygments_lexer": "ipython3",
   "version": "3.8.5"
  }
 },
 "nbformat": 4,
 "nbformat_minor": 4
}
