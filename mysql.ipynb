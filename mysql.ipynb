{
 "cells": [
  {
   "cell_type": "code",
   "execution_count": 23,
   "metadata": {
    "ExecuteTime": {
     "end_time": "2021-03-03T08:42:19.334325Z",
     "start_time": "2021-03-03T08:42:19.316354Z"
    }
   },
   "outputs": [],
   "source": [
    "'''创建数据库'''\n",
    "import pymysql\n",
    "import pandas as pd\n",
    "#打开数据库连接，不需要指定数据库，因为需要创建数据库\n",
    "conn = pymysql.connect(host='localhost',user = \"root\",passwd = \"aptx4869\",db='mysql',charset = 'gbk')# charset用于修正中文输出为问号的问题\n",
    "#获取游标\n",
    "cursor=conn.cursor()"
   ]
  },
  {
   "cell_type": "code",
   "execution_count": 30,
   "metadata": {
    "ExecuteTime": {
     "end_time": "2021-03-03T08:48:50.233462Z",
     "start_time": "2021-03-03T08:48:50.160085Z"
    }
   },
   "outputs": [
    {
     "data": {
      "text/plain": [
       "0"
      ]
     },
     "execution_count": 30,
     "metadata": {},
     "output_type": "execute_result"
    }
   ],
   "source": [
    "# 读取sql文件\n",
    "\n",
    "#创建表\n",
    "cursor.execute('drop table if exists lp_ml_saccvt_not_deduct_cl_tp_fgs')\n",
    "sql_path = \"D:/工作/太平洋/过程指标/数据库的创建/数据表的创建/通赔未抵扣清单.sql\"\n",
    "\n",
    "# 读取 sql 文件文本内容\n",
    "sql = open(sql_path, \"r\", encoding = \"utf8\")\n",
    "sqltxt = sql.readlines()# 此时 sqltxt 为 list 类型\n",
    "\n",
    "# 读取之后关闭文件\n",
    "sql.close()\n",
    "\n",
    "# list 转 str\n",
    "sql = \"\".join(sqltxt)\n",
    "\n",
    "# 执行sql\n",
    "cursor.execute(sql)\n",
    "print('创建数据表成功')"
   ]
  },
  {
   "cell_type": "code",
   "execution_count": 31,
   "metadata": {
    "ExecuteTime": {
     "end_time": "2021-03-03T08:49:34.290845Z",
     "start_time": "2021-03-03T08:49:34.274304Z"
    }
   },
   "outputs": [],
   "source": [
    "cursor.execute(\"show tables;\")    # 使用execute()方法执行SQL代码\n",
    "table_names=cursor.fetchall() # 返回执行SQL代码后的结果集，默认为元组"
   ]
  },
  {
   "cell_type": "code",
   "execution_count": 32,
   "metadata": {
    "ExecuteTime": {
     "end_time": "2021-03-03T08:49:36.104190Z",
     "start_time": "2021-03-03T08:49:36.097212Z"
    }
   },
   "outputs": [
    {
     "data": {
      "text/plain": [
       "(('columns_priv',),\n",
       " ('component',),\n",
       " ('course',),\n",
       " ('db',),\n",
       " ('default_roles',),\n",
       " ('employee',),\n",
       " ('engine_cost',),\n",
       " ('func',),\n",
       " ('general_log',),\n",
       " ('global_grants',),\n",
       " ('gtid_executed',),\n",
       " ('help_category',),\n",
       " ('help_keyword',),\n",
       " ('help_relation',),\n",
       " ('help_topic',),\n",
       " ('innodb_index_stats',),\n",
       " ('innodb_table_stats',),\n",
       " ('lp_ml_saccvt_deduction_cla_tp_fgs',),\n",
       " ('lp_ml_saccvt_not_deduct_cl_tp_fgs',),\n",
       " ('password_history',),\n",
       " ('plugin',),\n",
       " ('procs_priv',),\n",
       " ('proxies_priv',),\n",
       " ('replication_asynchronous_connection_failover',),\n",
       " ('role_edges',),\n",
       " ('score',),\n",
       " ('server_cost',),\n",
       " ('servers',),\n",
       " ('slave_master_info',),\n",
       " ('slave_relay_log_info',),\n",
       " ('slave_worker_info',),\n",
       " ('slow_log',),\n",
       " ('student',),\n",
       " ('tables_priv',),\n",
       " ('teacher',),\n",
       " ('time_zone',),\n",
       " ('time_zone_leap_second',),\n",
       " ('time_zone_name',),\n",
       " ('time_zone_transition',),\n",
       " ('time_zone_transition_type',),\n",
       " ('user',))"
      ]
     },
     "execution_count": 32,
     "metadata": {},
     "output_type": "execute_result"
    }
   ],
   "source": [
    "table_names"
   ]
  },
  {
   "cell_type": "code",
   "execution_count": null,
   "metadata": {},
   "outputs": [],
   "source": [
    "query = \"insert into user values(%s,%s,%s)\"\n",
    "for r in range(0, len(data)):\n",
    "    i = data.iloc[r, 0]\n",
    "    username = data.iloc[r, 1]\n",
    "    password = data.iloc[r, 2]\n",
    "    values = (int(i), str(username), str(password))\n",
    "    c.execute(query, values)\n",
    "\n",
    "con.commit()\n",
    "con.close()\n"
   ]
  },
  {
   "cell_type": "code",
   "execution_count": null,
   "metadata": {},
   "outputs": [],
   "source": [
    "cursor.close()#先关闭游标\n",
    "conn.close()#再关闭数据库连接"
   ]
  }
 ],
 "metadata": {
  "kernelspec": {
   "display_name": "Python 3",
   "language": "python",
   "name": "python3"
  },
  "language_info": {
   "codemirror_mode": {
    "name": "ipython",
    "version": 3
   },
   "file_extension": ".py",
   "mimetype": "text/x-python",
   "name": "python",
   "nbconvert_exporter": "python",
   "pygments_lexer": "ipython3",
   "version": "3.8.5"
  },
  "toc": {
   "base_numbering": 1,
   "nav_menu": {},
   "number_sections": true,
   "sideBar": true,
   "skip_h1_title": false,
   "title_cell": "Table of Contents",
   "title_sidebar": "Contents",
   "toc_cell": false,
   "toc_position": {},
   "toc_section_display": true,
   "toc_window_display": false
  },
  "varInspector": {
   "cols": {
    "lenName": 16,
    "lenType": 16,
    "lenVar": 40
   },
   "kernels_config": {
    "python": {
     "delete_cmd_postfix": "",
     "delete_cmd_prefix": "del ",
     "library": "var_list.py",
     "varRefreshCmd": "print(var_dic_list())"
    },
    "r": {
     "delete_cmd_postfix": ") ",
     "delete_cmd_prefix": "rm(",
     "library": "var_list.r",
     "varRefreshCmd": "cat(var_dic_list()) "
    }
   },
   "types_to_exclude": [
    "module",
    "function",
    "builtin_function_or_method",
    "instance",
    "_Feature"
   ],
   "window_display": false
  }
 },
 "nbformat": 4,
 "nbformat_minor": 4
}
